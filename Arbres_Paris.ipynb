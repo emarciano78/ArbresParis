{
 "cells": [
  {
   "cell_type": "code",
   "execution_count": 2,
   "metadata": {},
   "outputs": [],
   "source": [
    "import pandas # charger la librairie pandas Big data\n",
    "import csv\n",
    "import numpy as np\n",
    "from math import*"
   ]
  },
  {
   "cell_type": "code",
   "execution_count": 3,
   "metadata": {},
   "outputs": [
    {
     "name": "stdout",
     "output_type": "stream",
     "text": [
      "0.23.4\n"
     ]
    }
   ],
   "source": [
    "print(pandas.__version__)"
   ]
  },
  {
   "cell_type": "code",
   "execution_count": 4,
   "metadata": {},
   "outputs": [
    {
     "name": "stdout",
     "output_type": "stream",
     "text": [
      "**** sauve le nouveau fichier en csv ****\n",
      "telechargement et sauvegarde effectuée\n"
     ]
    }
   ],
   "source": [
    "# importer le fichier source arbres\n",
    "\n",
    "df = pandas.read_csv(\"C:\\data\\BIG DATA\\les-arbres.csv\",\n",
    "    usecols = ['IDBASE','ARRONDISSEMENT','DOMANIALITE','LIBELLEFRANCAIS','HAUTEUR (m)','geo_point_2d'],\n",
    "    dtype = {'IDBASE': int},\n",
    "    sep=';')\n",
    "df.rename(columns={'HAUTEUR (m)': 'HAUTEUR_m'}, inplace=True) #change le nom de l'entete\n",
    "print('**** sauve le nouveau fichier en csv ****')\n",
    "\n",
    "df.to_csv(r'C:\\data\\BIG DATA\\Datas_arbres2.csv',\n",
    "    index = None, header=True, encoding = 'iso-8859-1',\n",
    "    sep=';') # sauve le nouveau fichier en csv\n",
    "print('telechargement et sauvegarde effectuée')\n"
   ]
  },
  {
   "cell_type": "code",
   "execution_count": 5,
   "metadata": {},
   "outputs": [
    {
     "name": "stdout",
     "output_type": "stream",
     "text": [
      "         IDBASE   DOMANIALITE     ARRONDISSEMENT          LIBELLEFRANCAIS  \\\n",
      "0        102198        Jardin    PARIS 15E ARRDT                  Tilleul   \n",
      "1        106518        Jardin     PARIS 7E ARRDT                  Platane   \n",
      "2        106917        Jardin     PARIS 7E ARRDT                  Pommier   \n",
      "3        107165        Jardin    PARIS 15E ARRDT                    Frêne   \n",
      "4        108822        Jardin    PARIS 16E ARRDT                  Tilleul   \n",
      "5        109159        Jardin    PARIS 13E ARRDT                     Houx   \n",
      "6        109498        Jardin    PARIS 13E ARRDT                    Frêne   \n",
      "7        130767        Jardin    PARIS 15E ARRDT               Eucalyptus   \n",
      "8        139232        Jardin    PARIS 16E ARRDT                   Cyprès   \n",
      "9        139419        Jardin    PARIS 19E ARRDT                Savonnier   \n",
      "10       140892     CIMETIERE  SEINE-SAINT-DENIS                   Erable   \n",
      "11       142242     CIMETIERE  SEINE-SAINT-DENIS                   Erable   \n",
      "12       160353     CIMETIERE  SEINE-SAINT-DENIS           Lilas de Perse   \n",
      "13       161209     CIMETIERE       VAL-DE-MARNE                  Platane   \n",
      "14       188321         DASCO    PARIS 16E ARRDT               Marronnier   \n",
      "15       192476  PERIPHERIQUE    PARIS 16E ARRDT                    Chêne   \n",
      "16       194606  PERIPHERIQUE    PARIS 12E ARRDT                     Orme   \n",
      "17       196592  PERIPHERIQUE    PARIS 16E ARRDT            Prunus n. sp.   \n",
      "18       198575           DJS    PARIS 13E ARRDT                   Erable   \n",
      "19       198750           DJS    PARIS 14E ARRDT                   Erable   \n",
      "20       250161    Alignement    PARIS 19E ARRDT                  Platane   \n",
      "21       250537    Alignement    PARIS 19E ARRDT                  Platane   \n",
      "22       264049    Alignement    PARIS 17E ARRDT                  Tilleul   \n",
      "23       266964    Alignement    PARIS 17E ARRDT                  Sophora   \n",
      "24       269456    Alignement    PARIS 12E ARRDT                  Platane   \n",
      "25       275601    Alignement     PARIS 7E ARRDT                  Tilleul   \n",
      "26       277050    Alignement     PARIS 7E ARRDT                  Platane   \n",
      "27       285177    Alignement    PARIS 18E ARRDT                  Sophora   \n",
      "28       285439    Alignement    PARIS 10E ARRDT                  Platane   \n",
      "29       293289    Alignement    PARIS 10E ARRDT                  Platane   \n",
      "...         ...           ...                ...                      ...   \n",
      "203500   299331    Alignement    PARIS 11E ARRDT                  Tilleul   \n",
      "203501  2005011    Alignement  BOIS DE VINCENNES                  Platane   \n",
      "203502  2005356    Alignement  BOIS DE VINCENNES                   Erable   \n",
      "203503  2012132        Jardin  BOIS DE VINCENNES                    Chêne   \n",
      "203504  2027510  PERIPHERIQUE    PARIS 17E ARRDT                    Chêne   \n",
      "203505  2028226        Jardin    PARIS 16E ARRDT                Paulownia   \n",
      "203506   126408    Alignement    PARIS 13E ARRDT                  Tilleul   \n",
      "203507   214840    Alignement    PARIS 13E ARRDT  Arbre aux quarante écus   \n",
      "203508   218617    Alignement   BOIS DE BOULOGNE                  Platane   \n",
      "203509   222447    Alignement    PARIS 17E ARRDT                  Platane   \n",
      "203510   231778    Alignement    PARIS 15E ARRDT                  Sophora   \n",
      "203511   236250    Alignement    PARIS 19E ARRDT                  Palmier   \n",
      "203512   236376    Alignement    PARIS 15E ARRDT     Noisetier de Byzance   \n",
      "203513   247826    Alignement    PARIS 16E ARRDT               Marronnier   \n",
      "203514   112855        Jardin    PARIS 20E ARRDT     Noisetier de Byzance   \n",
      "203515   125276        Jardin    PARIS 12E ARRDT                  Tilleul   \n",
      "203516   128714        Jardin    PARIS 15E ARRDT                    Saule   \n",
      "203517   159837     CIMETIERE    PARIS 17E ARRDT                 Tulipier   \n",
      "203518   195943  PERIPHERIQUE    PARIS 17E ARRDT                  Platane   \n",
      "203519   243252    Alignement    PARIS 19E ARRDT                 Peuplier   \n",
      "203520   100468        Jardin    PARIS 12E ARRDT                  Tilleul   \n",
      "203521   105465        Jardin     PARIS 6E ARRDT               Marronnier   \n",
      "203522   105607        Jardin    PARIS 13E ARRDT                  Sophora   \n",
      "203523   105778        Jardin    PARIS 20E ARRDT                    Frêne   \n",
      "203524   119233        Jardin    PARIS 12E ARRDT                   Mûrier   \n",
      "203525   120287        Jardin    PARIS 18E ARRDT             Non spécifié   \n",
      "203526   137126        Jardin    PARIS 17E ARRDT                Savonnier   \n",
      "203527   146620     CIMETIERE  SEINE-SAINT-DENIS                   Erable   \n",
      "203528   154747     CIMETIERE     HAUTS-DE-SEINE     Noisetier de Byzance   \n",
      "203529   184481         DASCO    PARIS 15E ARRDT         Poirier à fleurs   \n",
      "\n",
      "        HAUTEUR_m                  geo_point_2d  \n",
      "0            13.0  48.8312624961, 2.30042979405  \n",
      "1            11.0  48.8541426861, 2.30144339778  \n",
      "2             9.0  48.8544068863, 2.29838682388  \n",
      "3             3.0  48.8427290695, 2.29717893509  \n",
      "4             6.0  48.8625754219, 2.29108764189  \n",
      "5             8.0  48.8183691015, 2.35555730835  \n",
      "6            15.0  48.8168324627, 2.35643241125  \n",
      "7             0.0  48.8406746559, 2.27232341936  \n",
      "8            11.0  48.8358490419, 2.25543190588  \n",
      "9             8.0  48.8772369957, 2.39344923578  \n",
      "10            9.0  48.9062912741, 2.40167716822  \n",
      "11            0.0  48.9068189584, 2.42073508929  \n",
      "12            9.0  48.9039008306, 2.35015412037  \n",
      "13            0.0  48.7583534138, 2.37817920812  \n",
      "14           12.0   48.867693143, 2.27876141257  \n",
      "15            5.0  48.8601856508, 2.26303110269  \n",
      "16           15.0  48.8323531402, 2.40628695877  \n",
      "17            5.0  48.8705196869, 2.27203908544  \n",
      "18           13.0  48.8219682021, 2.37650214533  \n",
      "19            3.0  48.8211707178, 2.32790299814  \n",
      "20           25.0  48.8784915254, 2.37446618961  \n",
      "21           27.0   48.890183203, 2.39880717121  \n",
      "22           14.0  48.8763682597, 2.29448968278  \n",
      "23           10.0  48.8806874242, 2.30977573926  \n",
      "24            5.0  48.8427468802, 2.38456990241  \n",
      "25           20.0   48.861551127, 2.31164409492  \n",
      "26           15.0   48.851539201, 2.31018260756  \n",
      "27            7.0  48.8871276069, 2.33316065596  \n",
      "28           25.0  48.8838328499, 2.36025330384  \n",
      "29           25.0  48.8808246287, 2.35216387646  \n",
      "...           ...                           ...  \n",
      "203500       15.0  48.8569853679, 2.37922843466  \n",
      "203501       15.0  48.8325776948, 2.43446224074  \n",
      "203502        9.0   48.8304105435, 2.4302048973  \n",
      "203503        6.0  48.8327282691, 2.45613749763  \n",
      "203504        4.0  48.9003577261, 2.32725473621  \n",
      "203505       10.0  48.8765853527, 2.28178750902  \n",
      "203506       10.0  48.8174449581, 2.35857609298  \n",
      "203507        8.0  48.8318295109, 2.37543000336  \n",
      "203508       30.0   48.868057878, 2.23431031706  \n",
      "203509        8.0  48.8878215651, 2.30943174187  \n",
      "203510        8.0  48.8279591856, 2.29788929672  \n",
      "203511        5.0  48.8955382094, 2.37528796392  \n",
      "203512        5.0  48.8520011276, 2.29112840503  \n",
      "203513       16.0  48.8584864488, 2.26921082577  \n",
      "203514        5.0   48.8484489563, 2.4156911185  \n",
      "203515       10.0  48.8419313187, 2.38893930206  \n",
      "203516        0.0   48.840164732, 2.31976469512  \n",
      "203517        9.0  48.8963906064, 2.31462737966  \n",
      "203518       12.0  48.8945494457, 2.30550912065  \n",
      "203519       20.0   48.885904607, 2.37328116443  \n",
      "203520       10.0  48.8331121376, 2.38411066295  \n",
      "203521        6.0   48.843792853, 2.33715568748  \n",
      "203522        5.0  48.8291016028, 2.36012127003  \n",
      "203523       10.0  48.8657078545, 2.41124222481  \n",
      "203524        4.0  48.8358150047, 2.40176071767  \n",
      "203525        0.0  48.8881206993, 2.34362136926  \n",
      "203526        0.0  48.8892770573, 2.29573428171  \n",
      "203527        0.0  48.9055741289, 2.41119525165  \n",
      "203528        0.0  48.8040928251, 2.30764813102  \n",
      "203529        6.0  48.8442442955, 2.29995363552  \n",
      "\n",
      "[203530 rows x 6 columns]\n",
      "(203530, 6)\n"
     ]
    }
   ],
   "source": [
    "print(df)\n",
    "print(df.shape)"
   ]
  },
  {
   "cell_type": "code",
   "execution_count": 6,
   "metadata": {},
   "outputs": [],
   "source": [
    "# Def pour traîter de les colonnes\n",
    "def check_colonne(colonne):\n",
    "    for i in colonne:\n",
    "        if  i == ' ':\n",
    "            print(' - \"{}\" n\\'est pas une',colonne,' valide, nous le supprimons.' \\\n",
    "                .format(colonne))\n",
    "            return np.NaN  # np.NaN valeur utilisée par les librairies  Numpy  et  Pandas  pour spécifier qu'une valeur est inconnue. C'est en quelque sorte un équivalent de  None.\n",
    "        return colonne"
   ]
  },
  {
   "cell_type": "code",
   "execution_count": 24,
   "metadata": {},
   "outputs": [
    {
     "name": "stdout",
     "output_type": "stream",
     "text": [
      "0           PARIS 15E ARRDT\n",
      "1            PARIS 7E ARRDT\n",
      "2            PARIS 7E ARRDT\n",
      "3           PARIS 15E ARRDT\n",
      "4           PARIS 16E ARRDT\n",
      "5           PARIS 13E ARRDT\n",
      "6           PARIS 13E ARRDT\n",
      "7           PARIS 15E ARRDT\n",
      "8           PARIS 16E ARRDT\n",
      "9           PARIS 19E ARRDT\n",
      "10        SEINE-SAINT-DENIS\n",
      "11        SEINE-SAINT-DENIS\n",
      "12        SEINE-SAINT-DENIS\n",
      "13             VAL-DE-MARNE\n",
      "14          PARIS 16E ARRDT\n",
      "15          PARIS 16E ARRDT\n",
      "16          PARIS 12E ARRDT\n",
      "17          PARIS 16E ARRDT\n",
      "18          PARIS 13E ARRDT\n",
      "19          PARIS 14E ARRDT\n",
      "20          PARIS 19E ARRDT\n",
      "21          PARIS 19E ARRDT\n",
      "22          PARIS 17E ARRDT\n",
      "23          PARIS 17E ARRDT\n",
      "24          PARIS 12E ARRDT\n",
      "25           PARIS 7E ARRDT\n",
      "26           PARIS 7E ARRDT\n",
      "27          PARIS 18E ARRDT\n",
      "28          PARIS 10E ARRDT\n",
      "29          PARIS 10E ARRDT\n",
      "                ...        \n",
      "203500      PARIS 11E ARRDT\n",
      "203501    BOIS DE VINCENNES\n",
      "203502    BOIS DE VINCENNES\n",
      "203503    BOIS DE VINCENNES\n",
      "203504      PARIS 17E ARRDT\n",
      "203505      PARIS 16E ARRDT\n",
      "203506      PARIS 13E ARRDT\n",
      "203507      PARIS 13E ARRDT\n",
      "203508     BOIS DE BOULOGNE\n",
      "203509      PARIS 17E ARRDT\n",
      "203510      PARIS 15E ARRDT\n",
      "203511      PARIS 19E ARRDT\n",
      "203512      PARIS 15E ARRDT\n",
      "203513      PARIS 16E ARRDT\n",
      "203514      PARIS 20E ARRDT\n",
      "203515      PARIS 12E ARRDT\n",
      "203516      PARIS 15E ARRDT\n",
      "203517      PARIS 17E ARRDT\n",
      "203518      PARIS 17E ARRDT\n",
      "203519      PARIS 19E ARRDT\n",
      "203520      PARIS 12E ARRDT\n",
      "203521       PARIS 6E ARRDT\n",
      "203522      PARIS 13E ARRDT\n",
      "203523      PARIS 20E ARRDT\n",
      "203524      PARIS 12E ARRDT\n",
      "203525      PARIS 18E ARRDT\n",
      "203526      PARIS 17E ARRDT\n",
      "203527    SEINE-SAINT-DENIS\n",
      "203528       HAUTS-DE-SEINE\n",
      "203529      PARIS 15E ARRDT\n",
      "Name: ARRONDISSEMENT, Length: 203530, dtype: object\n",
      "0                         Tilleul\n",
      "1                         Platane\n",
      "2                         Pommier\n",
      "3                           Frêne\n",
      "4                         Tilleul\n",
      "5                            Houx\n",
      "6                           Frêne\n",
      "7                      Eucalyptus\n",
      "8                          Cyprès\n",
      "9                       Savonnier\n",
      "10                         Erable\n",
      "11                         Erable\n",
      "12                 Lilas de Perse\n",
      "13                        Platane\n",
      "14                     Marronnier\n",
      "15                          Chêne\n",
      "16                           Orme\n",
      "17                  Prunus n. sp.\n",
      "18                         Erable\n",
      "19                         Erable\n",
      "20                        Platane\n",
      "21                        Platane\n",
      "22                        Tilleul\n",
      "23                        Sophora\n",
      "24                        Platane\n",
      "25                        Tilleul\n",
      "26                        Platane\n",
      "27                        Sophora\n",
      "28                        Platane\n",
      "29                        Platane\n",
      "                   ...           \n",
      "203500                    Tilleul\n",
      "203501                    Platane\n",
      "203502                     Erable\n",
      "203503                      Chêne\n",
      "203504                      Chêne\n",
      "203505                  Paulownia\n",
      "203506                    Tilleul\n",
      "203507    Arbre aux quarante écus\n",
      "203508                    Platane\n",
      "203509                    Platane\n",
      "203510                    Sophora\n",
      "203511                    Palmier\n",
      "203512       Noisetier de Byzance\n",
      "203513                 Marronnier\n",
      "203514       Noisetier de Byzance\n",
      "203515                    Tilleul\n",
      "203516                      Saule\n",
      "203517                   Tulipier\n",
      "203518                    Platane\n",
      "203519                   Peuplier\n",
      "203520                    Tilleul\n",
      "203521                 Marronnier\n",
      "203522                    Sophora\n",
      "203523                      Frêne\n",
      "203524                     Mûrier\n",
      "203525               Non spécifié\n",
      "203526                  Savonnier\n",
      "203527                     Erable\n",
      "203528       Noisetier de Byzance\n",
      "203529           Poirier à fleurs\n",
      "Name: LIBELLEFRANCAIS, Length: 203530, dtype: object\n",
      "0         13.0\n",
      "1         11.0\n",
      "2          9.0\n",
      "3          3.0\n",
      "4          6.0\n",
      "5          8.0\n",
      "6         15.0\n",
      "7          0.0\n",
      "8         11.0\n",
      "9          8.0\n",
      "10         9.0\n",
      "11         0.0\n",
      "12         9.0\n",
      "13         0.0\n",
      "14        12.0\n",
      "15         5.0\n",
      "16        15.0\n",
      "17         5.0\n",
      "18        13.0\n",
      "19         3.0\n",
      "20        25.0\n",
      "21        27.0\n",
      "22        14.0\n",
      "23        10.0\n",
      "24         5.0\n",
      "25        20.0\n",
      "26        15.0\n",
      "27         7.0\n",
      "28        25.0\n",
      "29        25.0\n",
      "          ... \n",
      "203500    15.0\n",
      "203501    15.0\n",
      "203502     9.0\n",
      "203503     6.0\n",
      "203504     4.0\n",
      "203505    10.0\n",
      "203506    10.0\n",
      "203507     8.0\n",
      "203508    30.0\n",
      "203509     8.0\n",
      "203510     8.0\n",
      "203511     5.0\n",
      "203512     5.0\n",
      "203513    16.0\n",
      "203514     5.0\n",
      "203515    10.0\n",
      "203516     0.0\n",
      "203517     9.0\n",
      "203518    12.0\n",
      "203519    20.0\n",
      "203520    10.0\n",
      "203521     6.0\n",
      "203522     5.0\n",
      "203523    10.0\n",
      "203524     4.0\n",
      "203525     0.0\n",
      "203526     0.0\n",
      "203527     0.0\n",
      "203528     0.0\n",
      "203529     6.0\n",
      "Name: HAUTEUR_m, Length: 203530, dtype: float64\n",
      "0               Jardin\n",
      "1               Jardin\n",
      "2               Jardin\n",
      "3               Jardin\n",
      "4               Jardin\n",
      "5               Jardin\n",
      "6               Jardin\n",
      "7               Jardin\n",
      "8               Jardin\n",
      "9               Jardin\n",
      "10           CIMETIERE\n",
      "11           CIMETIERE\n",
      "12           CIMETIERE\n",
      "13           CIMETIERE\n",
      "14               DASCO\n",
      "15        PERIPHERIQUE\n",
      "16        PERIPHERIQUE\n",
      "17        PERIPHERIQUE\n",
      "18                 DJS\n",
      "19                 DJS\n",
      "20          Alignement\n",
      "21          Alignement\n",
      "22          Alignement\n",
      "23          Alignement\n",
      "24          Alignement\n",
      "25          Alignement\n",
      "26          Alignement\n",
      "27          Alignement\n",
      "28          Alignement\n",
      "29          Alignement\n",
      "              ...     \n",
      "203500      Alignement\n",
      "203501      Alignement\n",
      "203502      Alignement\n",
      "203503          Jardin\n",
      "203504    PERIPHERIQUE\n",
      "203505          Jardin\n",
      "203506      Alignement\n",
      "203507      Alignement\n",
      "203508      Alignement\n",
      "203509      Alignement\n",
      "203510      Alignement\n",
      "203511      Alignement\n",
      "203512      Alignement\n",
      "203513      Alignement\n",
      "203514          Jardin\n",
      "203515          Jardin\n",
      "203516          Jardin\n",
      "203517       CIMETIERE\n",
      "203518    PERIPHERIQUE\n",
      "203519      Alignement\n",
      "203520          Jardin\n",
      "203521          Jardin\n",
      "203522          Jardin\n",
      "203523          Jardin\n",
      "203524          Jardin\n",
      "203525          Jardin\n",
      "203526          Jardin\n",
      "203527       CIMETIERE\n",
      "203528       CIMETIERE\n",
      "203529           DASCO\n",
      "Name: DOMANIALITE, Length: 203530, dtype: object\n",
      "0         48.8312624961, 2.30042979405\n",
      "1         48.8541426861, 2.30144339778\n",
      "2         48.8544068863, 2.29838682388\n",
      "3         48.8427290695, 2.29717893509\n",
      "4         48.8625754219, 2.29108764189\n",
      "5         48.8183691015, 2.35555730835\n",
      "6         48.8168324627, 2.35643241125\n",
      "7         48.8406746559, 2.27232341936\n",
      "8         48.8358490419, 2.25543190588\n",
      "9         48.8772369957, 2.39344923578\n",
      "10        48.9062912741, 2.40167716822\n",
      "11        48.9068189584, 2.42073508929\n",
      "12        48.9039008306, 2.35015412037\n",
      "13        48.7583534138, 2.37817920812\n",
      "14         48.867693143, 2.27876141257\n",
      "15        48.8601856508, 2.26303110269\n",
      "16        48.8323531402, 2.40628695877\n",
      "17        48.8705196869, 2.27203908544\n",
      "18        48.8219682021, 2.37650214533\n",
      "19        48.8211707178, 2.32790299814\n",
      "20        48.8784915254, 2.37446618961\n",
      "21         48.890183203, 2.39880717121\n",
      "22        48.8763682597, 2.29448968278\n",
      "23        48.8806874242, 2.30977573926\n",
      "24        48.8427468802, 2.38456990241\n",
      "25         48.861551127, 2.31164409492\n",
      "26         48.851539201, 2.31018260756\n",
      "27        48.8871276069, 2.33316065596\n",
      "28        48.8838328499, 2.36025330384\n",
      "29        48.8808246287, 2.35216387646\n",
      "                      ...             \n",
      "203500    48.8569853679, 2.37922843466\n",
      "203501    48.8325776948, 2.43446224074\n",
      "203502     48.8304105435, 2.4302048973\n",
      "203503    48.8327282691, 2.45613749763\n",
      "203504    48.9003577261, 2.32725473621\n",
      "203505    48.8765853527, 2.28178750902\n",
      "203506    48.8174449581, 2.35857609298\n",
      "203507    48.8318295109, 2.37543000336\n",
      "203508     48.868057878, 2.23431031706\n",
      "203509    48.8878215651, 2.30943174187\n",
      "203510    48.8279591856, 2.29788929672\n",
      "203511    48.8955382094, 2.37528796392\n",
      "203512    48.8520011276, 2.29112840503\n",
      "203513    48.8584864488, 2.26921082577\n",
      "203514     48.8484489563, 2.4156911185\n",
      "203515    48.8419313187, 2.38893930206\n",
      "203516     48.840164732, 2.31976469512\n",
      "203517    48.8963906064, 2.31462737966\n",
      "203518    48.8945494457, 2.30550912065\n",
      "203519     48.885904607, 2.37328116443\n",
      "203520    48.8331121376, 2.38411066295\n",
      "203521     48.843792853, 2.33715568748\n",
      "203522    48.8291016028, 2.36012127003\n",
      "203523    48.8657078545, 2.41124222481\n",
      "203524    48.8358150047, 2.40176071767\n",
      "203525    48.8881206993, 2.34362136926\n",
      "203526    48.8892770573, 2.29573428171\n",
      "203527    48.9055741289, 2.41119525165\n",
      "203528    48.8040928251, 2.30764813102\n",
      "203529    48.8442442955, 2.29995363552\n",
      "Name: geo_point_2d, Length: 203530, dtype: object\n"
     ]
    }
   ],
   "source": [
    "print(check_colonne(df.ARRONDISSEMENT))\n",
    "print(check_colonne(df.LIBELLEFRANCAIS))\n",
    "print(check_colonne(df.HAUTEUR_m))\n",
    "print(check_colonne(df.DOMANIALITE))\n",
    "print(check_colonne(df.geo_point_2d))\n"
   ]
  },
  {
   "cell_type": "code",
   "execution_count": 18,
   "metadata": {},
   "outputs": [
    {
     "name": "stdout",
     "output_type": "stream",
     "text": [
      "(203530,)\n"
     ]
    }
   ],
   "source": [
    "print(check_colonne(df.ARRONDISSEMENT).shape)"
   ]
  },
  {
   "cell_type": "code",
   "execution_count": 19,
   "metadata": {},
   "outputs": [
    {
     "name": "stdout",
     "output_type": "stream",
     "text": [
      "(203530,)\n"
     ]
    }
   ],
   "source": [
    "print(check_colonne(df.DOMANIALITE).shape)"
   ]
  },
  {
   "cell_type": "code",
   "execution_count": 20,
   "metadata": {},
   "outputs": [
    {
     "name": "stdout",
     "output_type": "stream",
     "text": [
      "(203530,)\n"
     ]
    }
   ],
   "source": [
    "print(check_colonne(df.LIBELLEFRANCAIS).shape)"
   ]
  },
  {
   "cell_type": "code",
   "execution_count": 22,
   "metadata": {},
   "outputs": [
    {
     "name": "stdout",
     "output_type": "stream",
     "text": [
      "(203530,)\n"
     ]
    }
   ],
   "source": [
    "print(check_colonne(df.HAUTEUR_m).shape)"
   ]
  },
  {
   "cell_type": "code",
   "execution_count": 23,
   "metadata": {},
   "outputs": [
    {
     "name": "stdout",
     "output_type": "stream",
     "text": [
      "(203530,)\n"
     ]
    }
   ],
   "source": [
    "print(check_colonne(df.geo_point_2d).shape)"
   ]
  },
  {
   "cell_type": "code",
   "execution_count": null,
   "metadata": {},
   "outputs": [],
   "source": [
    "# après vérification des valeurs manquantes avec la def check_colonne() aucune ligne n'a été suprimée-->"
   ]
  },
  {
   "cell_type": "code",
   "execution_count": null,
   "metadata": {},
   "outputs": [],
   "source": [
    "# Vérifiacation de la cohérence des valeurs numériques la colonne Hauteur"
   ]
  },
  {
   "cell_type": "code",
   "execution_count": 8,
   "metadata": {},
   "outputs": [
    {
     "name": "stdout",
     "output_type": "stream",
     "text": [
      "statistiques sur la colonne hauteur count    203530.000000\n",
      "mean         13.165833\n",
      "std        1954.701577\n",
      "min           0.000000\n",
      "25%           5.000000\n",
      "50%           8.000000\n",
      "75%          12.000000\n",
      "max      881818.000000\n",
      "Name: HAUTEUR_m, dtype: float64\n"
     ]
    }
   ],
   "source": [
    "print(\"statistiques sur la colonne hauteur\",df['HAUTEUR_m'].describe())"
   ]
  },
  {
   "cell_type": "code",
   "execution_count": null,
   "metadata": {},
   "outputs": [],
   "source": [
    "# valeur minimale = 0 maximale = 881 818m\n",
    "# l'ecart-type = 1 954 explique une grande dispertion de ensemble de valeurs par rapport à la moyenne qui = 13,17m"
   ]
  },
  {
   "cell_type": "code",
   "execution_count": 9,
   "metadata": {},
   "outputs": [
    {
     "name": "stdout",
     "output_type": "stream",
     "text": [
      "la colonne hauteur par ordre croissant 79104          0.0\n",
      "193922         0.0\n",
      "31956          0.0\n",
      "165768         0.0\n",
      "165769         0.0\n",
      "93548          0.0\n",
      "125210         0.0\n",
      "125209         0.0\n",
      "93547          0.0\n",
      "125208         0.0\n",
      "125206         0.0\n",
      "125205         0.0\n",
      "165770         0.0\n",
      "125203         0.0\n",
      "125201         0.0\n",
      "64537          0.0\n",
      "165771         0.0\n",
      "125207         0.0\n",
      "64536          0.0\n",
      "31952          0.0\n",
      "31950          0.0\n",
      "193932         0.0\n",
      "64563          0.0\n",
      "193931         0.0\n",
      "125249         0.0\n",
      "125248         0.0\n",
      "125247         0.0\n",
      "125245         0.0\n",
      "31951          0.0\n",
      "31930          0.0\n",
      "            ...   \n",
      "149699       255.0\n",
      "79633        260.0\n",
      "177018       510.0\n",
      "152895       510.0\n",
      "17757        512.0\n",
      "44812        576.0\n",
      "158136       608.0\n",
      "161459       610.0\n",
      "39941        610.0\n",
      "66496        615.0\n",
      "195003       618.0\n",
      "57537        714.0\n",
      "45633        720.0\n",
      "147392       810.0\n",
      "41150        810.0\n",
      "113065       810.0\n",
      "118402       810.0\n",
      "19127        818.0\n",
      "119095      1010.0\n",
      "101742      1211.0\n",
      "174138      1216.0\n",
      "20803       1510.0\n",
      "34127       1511.0\n",
      "203495      1514.0\n",
      "11503       1610.0\n",
      "110875      2015.0\n",
      "32866       2018.0\n",
      "133501      2525.0\n",
      "169738      5155.0\n",
      "201386    881818.0\n",
      "Name: HAUTEUR_m, Length: 203530, dtype: float64\n"
     ]
    }
   ],
   "source": [
    "# trier les hauteurs d'arbres par ordre croissant\n",
    "print(\"la colonne hauteur par ordre croissant\",df['HAUTEUR_m'].sort_values())"
   ]
  },
  {
   "cell_type": "code",
   "execution_count": 12,
   "metadata": {},
   "outputs": [
    {
     "name": "stdout",
     "output_type": "stream",
     "text": [
      "203530\n"
     ]
    }
   ],
   "source": [
    "# nbre de ligne dans la data frame arbresParis\n",
    "print(df.shape[0])"
   ]
  },
  {
   "cell_type": "code",
   "execution_count": 11,
   "metadata": {},
   "outputs": [
    {
     "name": "stdout",
     "output_type": "stream",
     "text": [
      "34149\n"
     ]
    }
   ],
   "source": [
    "# nbre de ligne dans la data frame arbresParis avec la valeur 0 pour la hauteur d'arbre\n",
    "print(df[df[\"HAUTEUR_m\"] == 0].shape[0])"
   ]
  },
  {
   "cell_type": "code",
   "execution_count": 27,
   "metadata": {},
   "outputs": [
    {
     "name": "stdout",
     "output_type": "stream",
     "text": [
      "579\n"
     ]
    }
   ],
   "source": [
    "print(df[df[\"HAUTEUR_m\"] > 30].shape[0])"
   ]
  },
  {
   "cell_type": "code",
   "execution_count": 29,
   "metadata": {},
   "outputs": [
    {
     "name": "stdout",
     "output_type": "stream",
     "text": [
      "202951\n"
     ]
    }
   ],
   "source": [
    "print(df[df[\"HAUTEUR_m\"] <= 30].shape[0])"
   ]
  },
  {
   "cell_type": "code",
   "execution_count": 30,
   "metadata": {},
   "outputs": [],
   "source": [
    "# des valeurs pour HAUTEUR_m == 0\n",
    "mask = df[df[\"HAUTEUR_m\"] == 0]\n"
   ]
  },
  {
   "cell_type": "code",
   "execution_count": 38,
   "metadata": {},
   "outputs": [
    {
     "name": "stdout",
     "output_type": "stream",
     "text": [
      "34149\n",
      "203530\n",
      "16.78  % des lignes dans notre dataframe ont une valeur 0 en colonne Hauteur\n"
     ]
    }
   ],
   "source": [
    "nbreDf = df.shape[0]\n",
    "nbreDe0DansDf = mask.shape[0]\n",
    "PourcentageDe0 = ((nbreDe0DansDf) / (nbreDf))*100\n",
    "print(nbreDe0DansDf)\n",
    "print(nbreDf)\n",
    "print(round(PourcentageDe0,2)),\" % des lignes dans notre dataframe ont une valeur 0 en colonne Hauteur\")"
   ]
  },
  {
   "cell_type": "code",
   "execution_count": 39,
   "metadata": {},
   "outputs": [
    {
     "name": "stdout",
     "output_type": "stream",
     "text": [
      "579\n",
      "203530\n",
      "0.28  % des lignes dans notre dataframe ont une valeur supérieure à 30 en colonne Hauteur\n"
     ]
    }
   ],
   "source": [
    "# des valeurs pour HAUTEUR_m > 30\n",
    "mask1 = df[df[\"HAUTEUR_m\"] > 30]\n",
    "nbreDe30DansDf = mask1.shape[0]\n",
    "PourcentageDe30 = ((nbreDe30DansDf) / (nbreDf))*100\n",
    "print(nbreDe30DansDf)\n",
    "print(nbreDf)\n",
    "print(round(PourcentageDe30,2),\" % des lignes dans notre dataframe ont une valeur supérieure à 30 en colonne Hauteur\")\n"
   ]
  },
  {
   "cell_type": "code",
   "execution_count": null,
   "metadata": {},
   "outputs": [],
   "source": [
    "# conclusion si on retire les valeurs ==0 et >30 de la colonne HAUTEUR_m, on perdera 17% des données dans notre Dataframe"
   ]
  },
  {
   "cell_type": "code",
   "execution_count": 53,
   "metadata": {},
   "outputs": [
    {
     "name": "stdout",
     "output_type": "stream",
     "text": [
      "(168926, 6)\n"
     ]
    }
   ],
   "source": [
    "df1 = df[(df['HAUTEUR_m'] > 0) & (df['HAUTEUR_m'] <= 45)]\n",
    "print(df1.shape)"
   ]
  },
  {
   "cell_type": "code",
   "execution_count": 78,
   "metadata": {},
   "outputs": [
    {
     "name": "stdout",
     "output_type": "stream",
     "text": [
      "10.23\n"
     ]
    }
   ],
   "source": [
    "Moyenne = (df1.HAUTEUR_m).mean()\n",
    "print(round(Moyenne,2))"
   ]
  },
  {
   "cell_type": "code",
   "execution_count": null,
   "metadata": {},
   "outputs": [],
   "source": [
    "# la moyenne générale de taille d'arbres est de 10,23m"
   ]
  },
  {
   "cell_type": "code",
   "execution_count": null,
   "metadata": {},
   "outputs": [],
   "source": [
    "# calcul de la moyenne par domaine "
   ]
  },
  {
   "cell_type": "code",
   "execution_count": 95,
   "metadata": {},
   "outputs": [
    {
     "name": "stdout",
     "output_type": "stream",
     "text": [
      "                    IDBASE  HAUTEUR_m\n",
      "DOMANIALITE                          \n",
      "Alignement    4.019589e+05  10.465420\n",
      "CIMETIERE     1.981905e+05  10.852463\n",
      "DAC           9.742990e+05   9.238095\n",
      "DASCO         5.446339e+05   7.900074\n",
      "DASES         2.017072e+06   5.000000\n",
      "DFPE          5.166114e+05   7.985580\n",
      "DJS           4.379927e+05   8.845891\n",
      "Jardin        5.251069e+05  10.162770\n",
      "PERIPHERIQUE  3.395442e+05   8.537498\n"
     ]
    }
   ],
   "source": [
    "dfMoyenne = df1.groupby('DOMANIALITE').mean()\n",
    "print(dfMoyenne)"
   ]
  },
  {
   "cell_type": "code",
   "execution_count": 121,
   "metadata": {},
   "outputs": [
    {
     "ename": "ValueError",
     "evalue": "Can only tuple-index with a MultiIndex",
     "output_type": "error",
     "traceback": [
      "\u001b[1;31m---------------------------------------------------------------------------\u001b[0m",
      "\u001b[1;31mValueError\u001b[0m                                Traceback (most recent call last)",
      "\u001b[1;32m<ipython-input-121-0e896f090274>\u001b[0m in \u001b[0;36m<module>\u001b[1;34m\u001b[0m\n\u001b[1;32m----> 1\u001b[1;33m \u001b[0mM\u001b[0m \u001b[1;33m=\u001b[0m \u001b[0mdfMoyenne\u001b[0m\u001b[1;33m[\u001b[0m\u001b[1;34m'HAUTEUR_m'\u001b[0m\u001b[1;33m]\u001b[0m\u001b[1;33m[\u001b[0m\u001b[1;33m:\u001b[0m\u001b[1;33m,\u001b[0m \u001b[1;36m1\u001b[0m\u001b[1;33m:\u001b[0m\u001b[1;36m2\u001b[0m\u001b[1;33m]\u001b[0m\u001b[1;33m\u001b[0m\u001b[1;33m\u001b[0m\u001b[0m\n\u001b[0m\u001b[0;32m      2\u001b[0m \u001b[0mprint\u001b[0m\u001b[1;33m(\u001b[0m\u001b[0mM\u001b[0m\u001b[1;33m)\u001b[0m\u001b[1;33m\u001b[0m\u001b[1;33m\u001b[0m\u001b[0m\n",
      "\u001b[1;32mc:\\users\\utilisateur\\appdata\\local\\programs\\python\\python37\\lib\\site-packages\\pandas\\core\\series.py\u001b[0m in \u001b[0;36m__getitem__\u001b[1;34m(self, key)\u001b[0m\n\u001b[0;32m    808\u001b[0m             \u001b[0mkey\u001b[0m \u001b[1;33m=\u001b[0m \u001b[0mcheck_bool_indexer\u001b[0m\u001b[1;33m(\u001b[0m\u001b[0mself\u001b[0m\u001b[1;33m.\u001b[0m\u001b[0mindex\u001b[0m\u001b[1;33m,\u001b[0m \u001b[0mkey\u001b[0m\u001b[1;33m)\u001b[0m\u001b[1;33m\u001b[0m\u001b[1;33m\u001b[0m\u001b[0m\n\u001b[0;32m    809\u001b[0m \u001b[1;33m\u001b[0m\u001b[0m\n\u001b[1;32m--> 810\u001b[1;33m         \u001b[1;32mreturn\u001b[0m \u001b[0mself\u001b[0m\u001b[1;33m.\u001b[0m\u001b[0m_get_with\u001b[0m\u001b[1;33m(\u001b[0m\u001b[0mkey\u001b[0m\u001b[1;33m)\u001b[0m\u001b[1;33m\u001b[0m\u001b[1;33m\u001b[0m\u001b[0m\n\u001b[0m\u001b[0;32m    811\u001b[0m \u001b[1;33m\u001b[0m\u001b[0m\n\u001b[0;32m    812\u001b[0m     \u001b[1;32mdef\u001b[0m \u001b[0m_get_with\u001b[0m\u001b[1;33m(\u001b[0m\u001b[0mself\u001b[0m\u001b[1;33m,\u001b[0m \u001b[0mkey\u001b[0m\u001b[1;33m)\u001b[0m\u001b[1;33m:\u001b[0m\u001b[1;33m\u001b[0m\u001b[1;33m\u001b[0m\u001b[0m\n",
      "\u001b[1;32mc:\\users\\utilisateur\\appdata\\local\\programs\\python\\python37\\lib\\site-packages\\pandas\\core\\series.py\u001b[0m in \u001b[0;36m_get_with\u001b[1;34m(self, key)\u001b[0m\n\u001b[0;32m    821\u001b[0m             \u001b[1;32mif\u001b[0m \u001b[0misinstance\u001b[0m\u001b[1;33m(\u001b[0m\u001b[0mkey\u001b[0m\u001b[1;33m,\u001b[0m \u001b[0mtuple\u001b[0m\u001b[1;33m)\u001b[0m\u001b[1;33m:\u001b[0m\u001b[1;33m\u001b[0m\u001b[1;33m\u001b[0m\u001b[0m\n\u001b[0;32m    822\u001b[0m                 \u001b[1;32mtry\u001b[0m\u001b[1;33m:\u001b[0m\u001b[1;33m\u001b[0m\u001b[1;33m\u001b[0m\u001b[0m\n\u001b[1;32m--> 823\u001b[1;33m                     \u001b[1;32mreturn\u001b[0m \u001b[0mself\u001b[0m\u001b[1;33m.\u001b[0m\u001b[0m_get_values_tuple\u001b[0m\u001b[1;33m(\u001b[0m\u001b[0mkey\u001b[0m\u001b[1;33m)\u001b[0m\u001b[1;33m\u001b[0m\u001b[1;33m\u001b[0m\u001b[0m\n\u001b[0m\u001b[0;32m    824\u001b[0m                 \u001b[1;32mexcept\u001b[0m \u001b[0mException\u001b[0m\u001b[1;33m:\u001b[0m\u001b[1;33m\u001b[0m\u001b[1;33m\u001b[0m\u001b[0m\n\u001b[0;32m    825\u001b[0m                     \u001b[1;32mif\u001b[0m \u001b[0mlen\u001b[0m\u001b[1;33m(\u001b[0m\u001b[0mkey\u001b[0m\u001b[1;33m)\u001b[0m \u001b[1;33m==\u001b[0m \u001b[1;36m1\u001b[0m\u001b[1;33m:\u001b[0m\u001b[1;33m\u001b[0m\u001b[1;33m\u001b[0m\u001b[0m\n",
      "\u001b[1;32mc:\\users\\utilisateur\\appdata\\local\\programs\\python\\python37\\lib\\site-packages\\pandas\\core\\series.py\u001b[0m in \u001b[0;36m_get_values_tuple\u001b[1;34m(self, key)\u001b[0m\n\u001b[0;32m    866\u001b[0m \u001b[1;33m\u001b[0m\u001b[0m\n\u001b[0;32m    867\u001b[0m         \u001b[1;32mif\u001b[0m \u001b[1;32mnot\u001b[0m \u001b[0misinstance\u001b[0m\u001b[1;33m(\u001b[0m\u001b[0mself\u001b[0m\u001b[1;33m.\u001b[0m\u001b[0mindex\u001b[0m\u001b[1;33m,\u001b[0m \u001b[0mMultiIndex\u001b[0m\u001b[1;33m)\u001b[0m\u001b[1;33m:\u001b[0m\u001b[1;33m\u001b[0m\u001b[1;33m\u001b[0m\u001b[0m\n\u001b[1;32m--> 868\u001b[1;33m             \u001b[1;32mraise\u001b[0m \u001b[0mValueError\u001b[0m\u001b[1;33m(\u001b[0m\u001b[1;34m'Can only tuple-index with a MultiIndex'\u001b[0m\u001b[1;33m)\u001b[0m\u001b[1;33m\u001b[0m\u001b[1;33m\u001b[0m\u001b[0m\n\u001b[0m\u001b[0;32m    869\u001b[0m \u001b[1;33m\u001b[0m\u001b[0m\n\u001b[0;32m    870\u001b[0m         \u001b[1;31m# If key is contained, would have returned by now\u001b[0m\u001b[1;33m\u001b[0m\u001b[1;33m\u001b[0m\u001b[1;33m\u001b[0m\u001b[0m\n",
      "\u001b[1;31mValueError\u001b[0m: Can only tuple-index with a MultiIndex"
     ]
    }
   ],
   "source": [
    "#  essayer de trouver comment recuperer la colonne hauteur pour les graphs\n",
    "#\"M = dfMoyenne['HAUTEUR_m'][:, 1:2]\n",
    "#print(M\")"
   ]
  },
  {
   "cell_type": "code",
   "execution_count": 111,
   "metadata": {},
   "outputs": [
    {
     "name": "stdout",
     "output_type": "stream",
     "text": [
      "              HAUTEUR_m\n",
      "DOMANIALITE            \n",
      "Alignement    10.465420\n",
      "CIMETIERE     10.852463\n",
      "DAC            9.238095\n",
      "DASCO          7.900074\n",
      "DASES          5.000000\n",
      "DFPE           7.985580\n",
      "DJS            8.845891\n",
      "Jardin        10.162770\n",
      "PERIPHERIQUE   8.537498\n",
      "IDBASE  HAUTEUR_m\n",
      "                       \n",
      "4.019589e+05  10.465420\n",
      "1.981905e+05  10.852463\n",
      "9.742990e+05   9.238095\n",
      "5.446339e+05   7.900074\n",
      "2.017072e+06   5.000000\n",
      "5.166114e+05   7.985580\n",
      "4.379927e+05   8.845891\n",
      "5.251069e+05  10.162770\n",
      "3.395442e+05   8.537498\n"
     ]
    }
   ],
   "source": [
    "print(dfMoyenne[[\"HAUTEUR_m\"]])\n",
    "print(dfMoyenne"
   ]
  },
  {
   "cell_type": "code",
   "execution_count": 102,
   "metadata": {},
   "outputs": [
    {
     "name": "stdout",
     "output_type": "stream",
     "text": [
      "                            MoyenneHauteur\n",
      "DOMANIALITE                               \n",
      "Alignement    4.019589e+05       10.465420\n",
      "CIMETIERE     1.981905e+05       10.852463\n",
      "DAC           9.742990e+05        9.238095\n",
      "DASCO         5.446339e+05        7.900074\n",
      "DASES         2.017072e+06        5.000000\n",
      "DFPE          5.166114e+05        7.985580\n",
      "DJS           4.379927e+05        8.845891\n",
      "Jardin        5.251069e+05       10.162770\n",
      "PERIPHERIQUE  3.395442e+05        8.537498\n"
     ]
    }
   ],
   "source": [
    "dfMean = dfMoyenne.set_axis(['','MoyenneHauteur'], axis=1, inplace=False)\n",
    "\n",
    "#dfMoyenne.rename(columns={'DOMANIALITE', 'MoyenneHauteur'})\n",
    "print(dfMean)"
   ]
  },
  {
   "cell_type": "code",
   "execution_count": null,
   "metadata": {},
   "outputs": [],
   "source": [
    "# la moyenne de taille d'arbres la plus élevéé est cituée ordre dans les Cimetiéres, les Alignements et les jardins   "
   ]
  },
  {
   "cell_type": "code",
   "execution_count": 63,
   "metadata": {},
   "outputs": [
    {
     "name": "stdout",
     "output_type": "stream",
     "text": [
      "DOMANIALITE\n",
      "Alignement      1.0\n",
      "CIMETIERE       1.0\n",
      "DAC             3.0\n",
      "DASCO           1.0\n",
      "DASES           5.0\n",
      "DFPE            1.0\n",
      "DJS             1.0\n",
      "Jardin          1.0\n",
      "PERIPHERIQUE    1.0\n",
      "Name: HAUTEUR_m, dtype: float64\n"
     ]
    }
   ],
   "source": [
    "dfMin = df1.groupby('DOMANIALITE').min()\n",
    "print(dfMin[\"HAUTEUR_m\"])"
   ]
  },
  {
   "cell_type": "code",
   "execution_count": null,
   "metadata": {},
   "outputs": [],
   "source": [
    "# la moyenne de taille d'arbre les plud petits est située partout sauf dans les DASES les DACs."
   ]
  },
  {
   "cell_type": "code",
   "execution_count": 62,
   "metadata": {},
   "outputs": [
    {
     "name": "stdout",
     "output_type": "stream",
     "text": [
      "DOMANIALITE\n",
      "Alignement      45.0\n",
      "CIMETIERE       35.0\n",
      "DAC             16.0\n",
      "DASCO           45.0\n",
      "DASES            5.0\n",
      "DFPE            25.0\n",
      "DJS             45.0\n",
      "Jardin          45.0\n",
      "PERIPHERIQUE    28.0\n",
      "Name: HAUTEUR_m, dtype: float64\n"
     ]
    }
   ],
   "source": [
    "dfMax = df1.groupby('DOMANIALITE').max()\n",
    "print(dfMax[\"HAUTEUR_m\"])"
   ]
  },
  {
   "cell_type": "code",
   "execution_count": 103,
   "metadata": {},
   "outputs": [],
   "source": [
    "# la moyenne de taille la plus élevée est située dans les jardin, les DJS, les DASCO et les alignements. "
   ]
  },
  {
   "cell_type": "code",
   "execution_count": 107,
   "metadata": {},
   "outputs": [],
   "source": [
    "import matplotlib.pyplot as plt\n",
    "import numpy as np\n",
    "import pylab"
   ]
  },
  {
   "cell_type": "code",
   "execution_count": 109,
   "metadata": {},
   "outputs": [
    {
     "ename": "ValueError",
     "evalue": "shape mismatch: objects cannot be broadcast to a single shape",
     "output_type": "error",
     "traceback": [
      "\u001b[1;31m---------------------------------------------------------------------------\u001b[0m",
      "\u001b[1;31mValueError\u001b[0m                                Traceback (most recent call last)",
      "\u001b[1;32m<ipython-input-109-cf32baa32d62>\u001b[0m in \u001b[0;36m<module>\u001b[1;34m\u001b[0m\n\u001b[0;32m      7\u001b[0m \u001b[0mBarName\u001b[0m \u001b[1;33m=\u001b[0m \u001b[1;33m[\u001b[0m\u001b[1;34m'Alignement'\u001b[0m\u001b[1;33m,\u001b[0m\u001b[1;34m'CIMETIERE'\u001b[0m\u001b[1;33m,\u001b[0m\u001b[1;34m''\u001b[0m\u001b[1;33m,\u001b[0m\u001b[1;34m'DAC'\u001b[0m\u001b[1;33m,\u001b[0m\u001b[1;34m'DASCO'\u001b[0m\u001b[1;33m,\u001b[0m\u001b[1;34m'DASES'\u001b[0m\u001b[1;33m,\u001b[0m\u001b[1;34m'DFPE'\u001b[0m\u001b[1;33m,\u001b[0m\u001b[1;34m'DJS '\u001b[0m\u001b[1;33m,\u001b[0m\u001b[1;34m'Jardin'\u001b[0m\u001b[1;33m,\u001b[0m\u001b[1;34m'PERIPHERIQUE'\u001b[0m\u001b[1;33m]\u001b[0m\u001b[1;33m\u001b[0m\u001b[1;33m\u001b[0m\u001b[0m\n\u001b[0;32m      8\u001b[0m \u001b[1;33m\u001b[0m\u001b[0m\n\u001b[1;32m----> 9\u001b[1;33m \u001b[0mplt\u001b[0m\u001b[1;33m.\u001b[0m\u001b[0mbar\u001b[0m\u001b[1;33m(\u001b[0m\u001b[0mx\u001b[0m\u001b[1;33m,\u001b[0m\u001b[0mheight\u001b[0m\u001b[1;33m,\u001b[0m \u001b[0mwidth\u001b[0m\u001b[1;33m,\u001b[0m \u001b[0mcolor\u001b[0m\u001b[1;33m=\u001b[0m\u001b[1;33m(\u001b[0m\u001b[1;36m0.65098041296005249\u001b[0m\u001b[1;33m,\u001b[0m \u001b[1;36m0.80784314870834351\u001b[0m\u001b[1;33m,\u001b[0m \u001b[1;36m0.89019608497619629\u001b[0m\u001b[1;33m,\u001b[0m \u001b[1;36m1.0\u001b[0m\u001b[1;33m)\u001b[0m \u001b[1;33m)\u001b[0m\u001b[1;33m\u001b[0m\u001b[1;33m\u001b[0m\u001b[0m\n\u001b[0m\u001b[0;32m     10\u001b[0m \u001b[0mplt\u001b[0m\u001b[1;33m.\u001b[0m\u001b[0mscatter\u001b[0m\u001b[1;33m(\u001b[0m\u001b[1;33m[\u001b[0m\u001b[0mi\u001b[0m\u001b[1;33m+\u001b[0m\u001b[0mwidth\u001b[0m\u001b[1;33m/\u001b[0m\u001b[1;36m2.0\u001b[0m \u001b[1;32mfor\u001b[0m \u001b[0mi\u001b[0m \u001b[1;32min\u001b[0m \u001b[0mx\u001b[0m\u001b[1;33m]\u001b[0m\u001b[1;33m,\u001b[0m\u001b[0mheight\u001b[0m\u001b[1;33m,\u001b[0m\u001b[0mcolor\u001b[0m\u001b[1;33m=\u001b[0m\u001b[1;34m'k'\u001b[0m\u001b[1;33m,\u001b[0m\u001b[0ms\u001b[0m\u001b[1;33m=\u001b[0m\u001b[1;36m40\u001b[0m\u001b[1;33m)\u001b[0m\u001b[1;33m\u001b[0m\u001b[1;33m\u001b[0m\u001b[0m\n\u001b[0;32m     11\u001b[0m \u001b[1;33m\u001b[0m\u001b[0m\n",
      "\u001b[1;32mc:\\users\\utilisateur\\appdata\\local\\programs\\python\\python37\\lib\\site-packages\\matplotlib\\pyplot.py\u001b[0m in \u001b[0;36mbar\u001b[1;34m(x, height, width, bottom, align, data, **kwargs)\u001b[0m\n\u001b[0;32m   2432\u001b[0m     return gca().bar(\n\u001b[0;32m   2433\u001b[0m         \u001b[0mx\u001b[0m\u001b[1;33m,\u001b[0m \u001b[0mheight\u001b[0m\u001b[1;33m,\u001b[0m \u001b[0mwidth\u001b[0m\u001b[1;33m=\u001b[0m\u001b[0mwidth\u001b[0m\u001b[1;33m,\u001b[0m \u001b[0mbottom\u001b[0m\u001b[1;33m=\u001b[0m\u001b[0mbottom\u001b[0m\u001b[1;33m,\u001b[0m \u001b[0malign\u001b[0m\u001b[1;33m=\u001b[0m\u001b[0malign\u001b[0m\u001b[1;33m,\u001b[0m\u001b[1;33m\u001b[0m\u001b[1;33m\u001b[0m\u001b[0m\n\u001b[1;32m-> 2434\u001b[1;33m         **({\"data\": data} if data is not None else {}), **kwargs)\n\u001b[0m\u001b[0;32m   2435\u001b[0m \u001b[1;33m\u001b[0m\u001b[0m\n\u001b[0;32m   2436\u001b[0m \u001b[1;33m\u001b[0m\u001b[0m\n",
      "\u001b[1;32mc:\\users\\utilisateur\\appdata\\local\\programs\\python\\python37\\lib\\site-packages\\matplotlib\\__init__.py\u001b[0m in \u001b[0;36minner\u001b[1;34m(ax, data, *args, **kwargs)\u001b[0m\n\u001b[0;32m   1587\u001b[0m     \u001b[1;32mdef\u001b[0m \u001b[0minner\u001b[0m\u001b[1;33m(\u001b[0m\u001b[0max\u001b[0m\u001b[1;33m,\u001b[0m \u001b[1;33m*\u001b[0m\u001b[0margs\u001b[0m\u001b[1;33m,\u001b[0m \u001b[0mdata\u001b[0m\u001b[1;33m=\u001b[0m\u001b[1;32mNone\u001b[0m\u001b[1;33m,\u001b[0m \u001b[1;33m**\u001b[0m\u001b[0mkwargs\u001b[0m\u001b[1;33m)\u001b[0m\u001b[1;33m:\u001b[0m\u001b[1;33m\u001b[0m\u001b[1;33m\u001b[0m\u001b[0m\n\u001b[0;32m   1588\u001b[0m         \u001b[1;32mif\u001b[0m \u001b[0mdata\u001b[0m \u001b[1;32mis\u001b[0m \u001b[1;32mNone\u001b[0m\u001b[1;33m:\u001b[0m\u001b[1;33m\u001b[0m\u001b[1;33m\u001b[0m\u001b[0m\n\u001b[1;32m-> 1589\u001b[1;33m             \u001b[1;32mreturn\u001b[0m \u001b[0mfunc\u001b[0m\u001b[1;33m(\u001b[0m\u001b[0max\u001b[0m\u001b[1;33m,\u001b[0m \u001b[1;33m*\u001b[0m\u001b[0mmap\u001b[0m\u001b[1;33m(\u001b[0m\u001b[0msanitize_sequence\u001b[0m\u001b[1;33m,\u001b[0m \u001b[0margs\u001b[0m\u001b[1;33m)\u001b[0m\u001b[1;33m,\u001b[0m \u001b[1;33m**\u001b[0m\u001b[0mkwargs\u001b[0m\u001b[1;33m)\u001b[0m\u001b[1;33m\u001b[0m\u001b[1;33m\u001b[0m\u001b[0m\n\u001b[0m\u001b[0;32m   1590\u001b[0m \u001b[1;33m\u001b[0m\u001b[0m\n\u001b[0;32m   1591\u001b[0m         \u001b[0mbound\u001b[0m \u001b[1;33m=\u001b[0m \u001b[0mnew_sig\u001b[0m\u001b[1;33m.\u001b[0m\u001b[0mbind\u001b[0m\u001b[1;33m(\u001b[0m\u001b[0max\u001b[0m\u001b[1;33m,\u001b[0m \u001b[1;33m*\u001b[0m\u001b[0margs\u001b[0m\u001b[1;33m,\u001b[0m \u001b[1;33m**\u001b[0m\u001b[0mkwargs\u001b[0m\u001b[1;33m)\u001b[0m\u001b[1;33m\u001b[0m\u001b[1;33m\u001b[0m\u001b[0m\n",
      "\u001b[1;32mc:\\users\\utilisateur\\appdata\\local\\programs\\python\\python37\\lib\\site-packages\\matplotlib\\axes\\_axes.py\u001b[0m in \u001b[0;36mbar\u001b[1;34m(self, x, height, width, bottom, align, **kwargs)\u001b[0m\n\u001b[0;32m   2373\u001b[0m         x, height, width, y, linewidth = np.broadcast_arrays(\n\u001b[0;32m   2374\u001b[0m             \u001b[1;31m# Make args iterable too.\u001b[0m\u001b[1;33m\u001b[0m\u001b[1;33m\u001b[0m\u001b[1;33m\u001b[0m\u001b[0m\n\u001b[1;32m-> 2375\u001b[1;33m             np.atleast_1d(x), height, width, y, linewidth)\n\u001b[0m\u001b[0;32m   2376\u001b[0m \u001b[1;33m\u001b[0m\u001b[0m\n\u001b[0;32m   2377\u001b[0m         \u001b[1;31m# Now that units have been converted, set the tick locations.\u001b[0m\u001b[1;33m\u001b[0m\u001b[1;33m\u001b[0m\u001b[1;33m\u001b[0m\u001b[0m\n",
      "\u001b[1;32mc:\\users\\utilisateur\\appdata\\local\\programs\\python\\python37\\lib\\site-packages\\numpy\\lib\\stride_tricks.py\u001b[0m in \u001b[0;36mbroadcast_arrays\u001b[1;34m(*args, **kwargs)\u001b[0m\n\u001b[0;32m    257\u001b[0m     \u001b[0margs\u001b[0m \u001b[1;33m=\u001b[0m \u001b[1;33m[\u001b[0m\u001b[0mnp\u001b[0m\u001b[1;33m.\u001b[0m\u001b[0marray\u001b[0m\u001b[1;33m(\u001b[0m\u001b[0m_m\u001b[0m\u001b[1;33m,\u001b[0m \u001b[0mcopy\u001b[0m\u001b[1;33m=\u001b[0m\u001b[1;32mFalse\u001b[0m\u001b[1;33m,\u001b[0m \u001b[0msubok\u001b[0m\u001b[1;33m=\u001b[0m\u001b[0msubok\u001b[0m\u001b[1;33m)\u001b[0m \u001b[1;32mfor\u001b[0m \u001b[0m_m\u001b[0m \u001b[1;32min\u001b[0m \u001b[0margs\u001b[0m\u001b[1;33m]\u001b[0m\u001b[1;33m\u001b[0m\u001b[1;33m\u001b[0m\u001b[0m\n\u001b[0;32m    258\u001b[0m \u001b[1;33m\u001b[0m\u001b[0m\n\u001b[1;32m--> 259\u001b[1;33m     \u001b[0mshape\u001b[0m \u001b[1;33m=\u001b[0m \u001b[0m_broadcast_shape\u001b[0m\u001b[1;33m(\u001b[0m\u001b[1;33m*\u001b[0m\u001b[0margs\u001b[0m\u001b[1;33m)\u001b[0m\u001b[1;33m\u001b[0m\u001b[1;33m\u001b[0m\u001b[0m\n\u001b[0m\u001b[0;32m    260\u001b[0m \u001b[1;33m\u001b[0m\u001b[0m\n\u001b[0;32m    261\u001b[0m     \u001b[1;32mif\u001b[0m \u001b[0mall\u001b[0m\u001b[1;33m(\u001b[0m\u001b[0marray\u001b[0m\u001b[1;33m.\u001b[0m\u001b[0mshape\u001b[0m \u001b[1;33m==\u001b[0m \u001b[0mshape\u001b[0m \u001b[1;32mfor\u001b[0m \u001b[0marray\u001b[0m \u001b[1;32min\u001b[0m \u001b[0margs\u001b[0m\u001b[1;33m)\u001b[0m\u001b[1;33m:\u001b[0m\u001b[1;33m\u001b[0m\u001b[1;33m\u001b[0m\u001b[0m\n",
      "\u001b[1;32mc:\\users\\utilisateur\\appdata\\local\\programs\\python\\python37\\lib\\site-packages\\numpy\\lib\\stride_tricks.py\u001b[0m in \u001b[0;36m_broadcast_shape\u001b[1;34m(*args)\u001b[0m\n\u001b[0;32m    191\u001b[0m     \u001b[1;31m# use the old-iterator because np.nditer does not handle size 0 arrays\u001b[0m\u001b[1;33m\u001b[0m\u001b[1;33m\u001b[0m\u001b[1;33m\u001b[0m\u001b[0m\n\u001b[0;32m    192\u001b[0m     \u001b[1;31m# consistently\u001b[0m\u001b[1;33m\u001b[0m\u001b[1;33m\u001b[0m\u001b[1;33m\u001b[0m\u001b[0m\n\u001b[1;32m--> 193\u001b[1;33m     \u001b[0mb\u001b[0m \u001b[1;33m=\u001b[0m \u001b[0mnp\u001b[0m\u001b[1;33m.\u001b[0m\u001b[0mbroadcast\u001b[0m\u001b[1;33m(\u001b[0m\u001b[1;33m*\u001b[0m\u001b[0margs\u001b[0m\u001b[1;33m[\u001b[0m\u001b[1;33m:\u001b[0m\u001b[1;36m32\u001b[0m\u001b[1;33m]\u001b[0m\u001b[1;33m)\u001b[0m\u001b[1;33m\u001b[0m\u001b[1;33m\u001b[0m\u001b[0m\n\u001b[0m\u001b[0;32m    194\u001b[0m     \u001b[1;31m# unfortunately, it cannot handle 32 or more arguments directly\u001b[0m\u001b[1;33m\u001b[0m\u001b[1;33m\u001b[0m\u001b[1;33m\u001b[0m\u001b[0m\n\u001b[0;32m    195\u001b[0m     \u001b[1;32mfor\u001b[0m \u001b[0mpos\u001b[0m \u001b[1;32min\u001b[0m \u001b[0mrange\u001b[0m\u001b[1;33m(\u001b[0m\u001b[1;36m32\u001b[0m\u001b[1;33m,\u001b[0m \u001b[0mlen\u001b[0m\u001b[1;33m(\u001b[0m\u001b[0margs\u001b[0m\u001b[1;33m)\u001b[0m\u001b[1;33m,\u001b[0m \u001b[1;36m31\u001b[0m\u001b[1;33m)\u001b[0m\u001b[1;33m:\u001b[0m\u001b[1;33m\u001b[0m\u001b[1;33m\u001b[0m\u001b[0m\n",
      "\u001b[1;31mValueError\u001b[0m: shape mismatch: objects cannot be broadcast to a single shape"
     ]
    },
    {
     "data": {
      "image/png": "[encoded data removed]",
      "text/plain": [
       "<Figure size 432x288 with 1 Axes>"
      ]
     },
     "metadata": {
      "needs_background": "light"
     },
     "output_type": "display_data"
    }
   ],
   "source": [
    "fig = plt.figure()\n",
    "\n",
    "x = [1,2,3,4,5,6,7,8,9,10]\n",
    "\n",
    "height = dfMax[\"HAUTEUR_m\"]\n",
    "width = 0.05\n",
    "BarName = ['Alignement','CIMETIERE','','DAC','DASCO','DASES','DFPE','DJS ','Jardin','PERIPHERIQUE']\n",
    "\n",
    "plt.bar(x,height, width, color=(0.65098041296005249, 0.80784314870834351, 0.89019608497619629, 1.0) )\n",
    "plt.scatter([i+width/2.0 for i in x],height,color='k',s=40)\n",
    "\n",
    "plt.xlim(0,11)\n",
    "plt.ylim(0,14)\n",
    "plt.grid()\n",
    "\n",
    "plt.ylabel('Hauteur arbres')\n",
    "plt.title('Hauteur arbres par DOMINAITE !')\n",
    "\n",
    "pylab.xticks(x, BarName, rotation=40)\n",
    "\n",
    "plt.savefig('SimpleBar.png')\n",
    "plt.show()"
   ]
  },
  {
   "cell_type": "code",
   "execution_count": null,
   "metadata": {},
   "outputs": [],
   "source": []
  }
 ],
 "metadata": {
  "kernelspec": {
   "display_name": "Python 3",
   "language": "python",
   "name": "python3"
  },
  "language_info": {
   "codemirror_mode": {
    "name": "ipython",
    "version": 3
   },
   "file_extension": ".py",
   "mimetype": "text/x-python",
   "name": "python",
   "nbconvert_exporter": "python",
   "pygments_lexer": "ipython3",
   "version": "3.7.3"
  }
 },
 "nbformat": 4,
 "nbformat_minor": 2
}
